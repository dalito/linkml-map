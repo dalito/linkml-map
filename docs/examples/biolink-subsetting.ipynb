{
 "cells": [
  {
   "metadata": {},
   "cell_type": "markdown",
   "source": [
    "# Biolink Model Subsetting\n",
    "This notebook demonstrates how to subset the Biolink Model using the Biolink Model schema and a transformation specification in two different ways: first using a transformation specification defined manually in YAML and loaded from the filesystem, and second, using a subset of classes retrieved using SchemaView dynamically."
   ],
   "id": "bc01d59ced195153"
  },
  {
   "metadata": {},
   "cell_type": "markdown",
   "source": [
    "First, we import several LinkML helper packages including SchemaView: https://linkml.io/linkml/developers/schemaview.html \n",
    "SchemaView is a LinkML schema introspection tool that provides helpful functions to retrieve model elements by name.  It also supports navigating ancestors and descendants of any model element, including classes, slots, types, and permissible values in enumerations.  \n"
   ],
   "id": "91b3677392f95575"
  },
  {
   "metadata": {},
   "cell_type": "code",
   "outputs": [],
   "execution_count": null,
   "source": [
    "from pathlib import Path\n",
    "from pytest import fixture\n",
    "\n",
    "from linkml_runtime.dumpers import yaml_dumper\n",
    "from linkml_map.datamodel.transformer_model import TransformationSpecification, ClassDerivation, SlotDerivation, CopyDirective\n",
    "from linkml_map.inference.schema_mapper import SchemaMapper\n",
    "from linkml_map.session import Session\n",
    "from linkml_runtime.utils.schemaview import SchemaView\n",
    "from linkml_map.utils.loaders import load_specification\n",
    "from linkml_runtime.utils.formatutils import camelcase, underscore\n",
    "from pprint import pprint\n",
    "\n",
    "REPO_ROOT = Path.cwd().parent.parent"
   ],
   "id": "e3f86775ef7a9dcc"
  },
  {
   "metadata": {},
   "cell_type": "markdown",
   "source": "SchemaView can accept a variety of imports to initialize, including a Path or string representation of a Path or (as we do in this case), a URL of a raw LinkML schema. ",
   "id": "d8d3b8f7bc023dae"
  },
  {
   "metadata": {},
   "cell_type": "code",
   "outputs": [],
   "execution_count": null,
   "source": [
    "schema_url = \"https://raw.githubusercontent.com/biolink/biolink-model/master/biolink-model.yaml\"\n",
    "sv = SchemaView(schema_url)\n"
   ],
   "id": "8ca1d183bd948863"
  },
  {
   "metadata": {},
   "cell_type": "markdown",
   "source": [
    "### Creating a Transformation Specification Manually in YAML format.\n",
    "In our first example, we develop a \"Transform Specification\" for Biolink Model using Class and Slot Derivations as defined by the linkml-map transformation language.  More about that here: https://linkml.io/linkml-map/#TransformationSpecification/"
   ],
   "id": "a91dc68f7d162c6f"
  },
  {
   "metadata": {},
   "cell_type": "code",
   "outputs": [],
   "execution_count": null,
   "source": [
    "transform_file = REPO_ROOT / \"tests/input/examples/biolink/transform/biolink-example-profile.transform.yaml\"\n",
    "# Initialize Session and SchemaBuilder\n",
    "session = Session()\n",
    "\n",
    "# Set the source schema in the session\n",
    "session.set_source_schema(sv)\n",
    "\n",
    "tr_spec = load_specification(transform_file)\n",
    "mapper = SchemaMapper()\n",
    "mapper.source_schemaview = sv\n",
    "\n",
    "target_schema_obj = mapper.derive_schema(specification=tr_spec,\n",
    "                                         target_schema_id=\"biolink-profile\",\n",
    "                                        target_schema_name=\"BiolinkProfile\")\n",
    "\n",
    "\n",
    "yaml_dumper.dump(target_schema_obj, str(\"biolink-profile.yaml\"))\n",
    "\n",
    "transformed_sv = SchemaView(\"biolink-profile.yaml\")\n",
    "\n",
    "for class_name in transformed_sv.all_classes():\n",
    "    print(class_name)\n",
    "print()\n",
    "for slot_name in transformed_sv.all_slots():\n",
    "    print(slot_name)"
   ],
   "id": "b9f39d577790a0dd"
  },
  {
   "metadata": {},
   "cell_type": "code",
   "outputs": [],
   "execution_count": null,
   "source": "!gen-pydantic biolink-profile.yaml",
   "id": "8ac53bfef2f51db"
  },
  {
   "metadata": {},
   "cell_type": "markdown",
   "source": [
    "Note:\n",
    "* Still in development is the tracing of provenance between a source schema and a destination schema.  Right now there is no provenance.  \n",
    "* If a class, slot, enum, or type is not included at all in the Derivation, it will not be pushed forward to the destination schema.  In development is an option to pull all non-specified components of the source model into the destination model.\n",
    "* You can do transformations on a derivation as well, see: https://linkml.io/linkml-map/#examples/Tutorial/#using-expressions\n",
    "* You can transform data as well as schemas, but this is currently \"beta\" level development.\n",
    "* Custom types are not pulled forward; this is a result of an error at the moment."
   ],
   "id": "58dcaf83d20f4dea"
  },
  {
   "metadata": {},
   "cell_type": "markdown",
   "source": [
    "### Creating a TransformationSpecification using SchemaView and an existing model.\n",
    "\n",
    "In our second example, we use the Biolink Model directly to derive classes and slots programmatically according to a simple list of \"subset classes\" that we want to extract from the main model in order to produce a subset model according to our specification."
   ],
   "id": "48d85f450751e59"
  },
  {
   "metadata": {},
   "cell_type": "markdown",
   "source": "First, we write a method to extract the classes and slots from Biolink Model using SchemaView",
   "id": "c5a7c5a345c5f87d"
  },
  {
   "metadata": {},
   "cell_type": "code",
   "outputs": [],
   "execution_count": null,
   "source": [
    "def get_biolink_class_derivations(sv, subset_classes) -> dict:\n",
    "    \"\"\"\n",
    "    Function to get Biolink class definitions\n",
    "\n",
    "    :param sv: SchemaView object\n",
    "    :param subset_classes: List of classes to subset\n",
    "    :return: Dictionary of class derivations incl slot derivations\n",
    "    \"\"\"\n",
    "    # Example implementation to fetch class definitions\n",
    "    # This should be replaced with the actual implementation\n",
    "    class_derivations ={}\n",
    "    for class_name in subset_classes:\n",
    "        class_derivation = ClassDerivation(populated_from=class_name,\n",
    "                                           name=camelcase(class_name))\n",
    "        induced_slots = sv.class_induced_slots(class_name)\n",
    "        for slot in induced_slots:\n",
    "            slot_derivation = SlotDerivation(populated_from=slot.name, name=underscore(slot.name))\n",
    "            class_derivation.slot_derivations[underscore(slot.name)] = slot_derivation\n",
    "        class_derivations[camelcase(class_name)] = class_derivation\n",
    "    return class_derivations\n"
   ],
   "id": "87000f75753c5faf"
  },
  {
   "metadata": {},
   "cell_type": "code",
   "outputs": [],
   "execution_count": null,
   "source": [
    "session = Session()\n",
    "\n",
    "# Set the source schema in the session\n",
    "session.set_source_schema(sv)\n",
    "\n",
    "subset_classes = [\n",
    "        \"gene\",\n",
    "        \"disease\",\n",
    "        \"case to phenotypic feature association\",\n",
    "        \"gene to disease association\",\n",
    "        \"gene to phenotypic feature association\",\n",
    "        \"case\",\n",
    "        \"phenotypic feature\",\n",
    "    ]\n",
    "\n",
    "class_derivations = get_biolink_class_derivations(sv, subset_classes)\n",
    "copy_type_directives = {\n",
    "    type_name: CopyDirective(element_name=type_name, copy_all=False)\n",
    "    for type_name, type_def in sv.all_types().items()\n",
    "}\n",
    "\n",
    "ts = TransformationSpecification(class_derivations=class_derivations, copy_directives=copy_type_directives)\n",
    "\n",
    "mapper = SchemaMapper()\n",
    "mapper.source_schemaview = sv\n",
    "\n",
    "target_schema_obj = mapper.derive_schema(\n",
    "    specification=ts, target_schema_id=\"biolink-subset\", target_schema_name=\"BiolinkSubset\"\n",
    ")\n",
    "\n",
    "yaml_dumper.dump(target_schema_obj, str(\"biolink-subset.yaml\"))\n",
    "\n",
    "transformed_sv = SchemaView(\"biolink-subset.yaml\")\n",
    "\n",
    "for class_name in transformed_sv.all_classes():\n",
    "    print(\"class derived: \", class_name)\n",
    "for slot_name in transformed_sv.all_slots():\n",
    "    print(\"slot derived: \", slot_name)\n",
    "for type_name in transformed_sv.all_types():\n",
    "    print(\"type copied: \", type_name)"
   ],
   "id": "1193a55025345761"
  },
  {
   "metadata": {},
   "cell_type": "code",
   "outputs": [],
   "execution_count": null,
   "source": [
    "# print the content of the new schema in LinkML YAML format to view here in the notebook\n",
    "yaml_content = yaml_dumper.dumps(target_schema_obj)  # Serialize to a string\n",
    "print(yaml_content)"
   ],
   "id": "f560d74e30c83f1e"
  },
  {
   "metadata": {},
   "cell_type": "markdown",
   "source": [
    "Notes:\n",
    "* notice that if we remove a parent class from this, e.g. remove \"NamedThing\" - the `is_a` path in the descendent classes will be absent.  this is to prevent unreachable element errors.\n",
    "* notice that helpful defaults are brought in like prefixes, descriptions, aliases, mappings, etc.\n",
    "  * there will likely be cases where metamodel elements in LinkML are not automatically transferred to the derived schema (as will all our generators, we are working towards feature parity).  \n",
    "* notice that the transformation automatically makes what were, independent `slot` definitions in Biolink Model into `attributes`.  These are more or less functionally equivalent in LinkML, however if you want to specify a slot that can be reused outside of a particular class, it is still best practice to do so with a slot definition rather than an attribute as to not repeat slot definitions."
   ],
   "id": "48d65b0bfa68ba6d"
  },
  {
   "metadata": {},
   "cell_type": "markdown",
   "source": [
    "### Use derived schema to generate different serializations of the derived model\n",
    "\n",
    "Now that we have a YAML dump of our derived model, we can use standard LinkML tooling to produce:\n",
    "* python dataclasses and pydantic models of our derived schema\n",
    "* navigate our derived schema with a SchemaView instance\n",
    "* create and deploy automated documentation with the derived schema (see https://github.com/linkml/linkml-project-cookiecutter for more details on using the derived schema in a standard setup)"
   ],
   "id": "9addb6853dbd3759"
  },
  {
   "metadata": {},
   "cell_type": "code",
   "outputs": [],
   "execution_count": null,
   "source": "!gen-pydantic biolink-subset.yaml",
   "id": "f8ccc4af61d75af7"
  },
  {
   "metadata": {},
   "cell_type": "code",
   "outputs": [],
   "execution_count": null,
   "source": "",
   "id": "3c811e7ae6de6e3a"
  }
 ],
 "metadata": {
  "kernelspec": {
   "display_name": "Python 3 (ipykernel)",
   "language": "python",
   "name": "python3"
  },
  "language_info": {
   "codemirror_mode": {
    "name": "ipython",
    "version": 3
   },
   "file_extension": ".py",
   "mimetype": "text/x-python",
   "name": "python",
   "nbconvert_exporter": "python",
   "pygments_lexer": "ipython3",
   "version": "3.11.0"
  }
 },
 "nbformat": 4,
 "nbformat_minor": 5
}
